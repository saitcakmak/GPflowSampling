{
 "cells": [
  {
   "cell_type": "markdown",
   "metadata": {
    "collapsed": true,
    "pycharm": {
     "name": "#%% md\n"
    }
   },
   "source": [
    "The pytorch based implementation produces unexpected results. We will use this, and its\n",
    " counterpart in the other implementation, to try to debug the issue.\n"
   ]
  },
  {
   "cell_type": "code",
   "execution_count": 22,
   "outputs": [
    {
     "name": "stdout",
     "output_type": "stream",
     "text": [
      "Using matplotlib backend: Qt5Agg\n"
     ]
    }
   ],
   "source": [
    "import numpy as np\n",
    "import tensorflow as tf\n",
    "import gpflow\n",
    "%matplotlib\n",
    "import matplotlib.pyplot as plt\n",
    "\n",
    "from examples.utils.plotting import *\n",
    "from gpflow.config import default_float\n",
    "from gpflow_sampling.samplers import decoupled\n",
    "from gpflow_sampling.samplers.decoupled_samplers import _decoupled_sampler_gpr\n"
   ],
   "metadata": {
    "collapsed": false,
    "pycharm": {
     "name": "#%%\n"
    }
   }
  },
  {
   "cell_type": "code",
   "execution_count": 23,
   "outputs": [
    {
     "data": {
      "text/plain": "[<matplotlib.lines.Line2D at 0x7f4085c22700>,\n <matplotlib.lines.Line2D at 0x7f4085c229d0>,\n <matplotlib.lines.Line2D at 0x7f4085c226d0>,\n <matplotlib.lines.Line2D at 0x7f4085c22400>,\n <matplotlib.lines.Line2D at 0x7f4085c22a00>,\n <matplotlib.lines.Line2D at 0x7f4085c22fd0>,\n <matplotlib.lines.Line2D at 0x7f4085c22520>,\n <matplotlib.lines.Line2D at 0x7f4085c22c40>,\n <matplotlib.lines.Line2D at 0x7f4085c22d00>,\n <matplotlib.lines.Line2D at 0x7f4085c22310>]"
     },
     "execution_count": 23,
     "metadata": {},
     "output_type": "execute_result"
    }
   ],
   "source": [
    "# generate the train data\n",
    "train_X = tf.reshape(tf.range(0, 1, 0.1, dtype=default_float()), shape=[-1, 1])\n",
    "train_Y = train_X * tf.sin(20*train_X)\n",
    "\n",
    "# initialize the GP model\n",
    "model = gpflow.models.GPR(\n",
    "    data=(train_X, train_Y),\n",
    "    kernel=gpflow.kernels.Matern52(lengthscales=0.1, variance=1.0),\n",
    "    noise_variance=5e-3\n",
    ")\n",
    "\n",
    "# test points\n",
    "test_X = tf.reshape(tf.range(0, 1, 0.01, dtype=default_float()), shape=[-1, 1])\n",
    "\n",
    "# clear previous plots\n",
    "plt.close()\n",
    "\n",
    "# posterior summary\n",
    "# model.predict_f() returns f_mean and f_variance\n",
    "# predict_y() returns the same, except with added observation noise\n",
    "post_mean, post_var = model.predict_y(test_X)\n",
    "post_mean = tf.reshape(post_mean, shape=[-1])\n",
    "post_std = tf.reshape(tf.sqrt(post_var), shape=[-1])\n",
    "plt.plot(tf.reshape(test_X, shape=[-1]), post_mean, label=\"post_mean\", color=\"green\")\n",
    "plt.fill_between(\n",
    "    tf.reshape(test_X, shape=[-1]),\n",
    "    post_mean - 2 * post_std,\n",
    "    post_mean + 2 * post_std,\n",
    "    alpha=0.5\n",
    ")\n",
    "\n",
    "# plot several posterior samples - use predict_f_samples\n",
    "num_samples = 10\n",
    "exact_samples = tf.squeeze(\n",
    "    model.predict_f_samples(test_X, num_samples=num_samples),\n",
    "    axis=-1\n",
    ")\n",
    "plt.plot(\n",
    "    tf.reshape(test_X, shape=[-1]),\n",
    "    tf.transpose(exact_samples),\n",
    "    label=\"exact\",\n",
    "    color=\"blue\"\n",
    ")\n"
   ],
   "metadata": {
    "collapsed": false,
    "pycharm": {
     "name": "#%%\n"
    }
   }
  },
  {
   "cell_type": "code",
   "execution_count": 24,
   "outputs": [
    {
     "data": {
      "text/plain": "[<matplotlib.lines.Line2D at 0x7f4085ecff10>,\n <matplotlib.lines.Line2D at 0x7f4085ecfaf0>,\n <matplotlib.lines.Line2D at 0x7f4085ecf850>,\n <matplotlib.lines.Line2D at 0x7f408c18daf0>,\n <matplotlib.lines.Line2D at 0x7f408c18d070>,\n <matplotlib.lines.Line2D at 0x7f408c092a90>,\n <matplotlib.lines.Line2D at 0x7f4085c22d90>,\n <matplotlib.lines.Line2D at 0x7f408c19c340>,\n <matplotlib.lines.Line2D at 0x7f408c19cb20>,\n <matplotlib.lines.Line2D at 0x7f408c19caf0>]"
     },
     "execution_count": 24,
     "metadata": {},
     "output_type": "execute_result"
    }
   ],
   "source": [
    "# initialize the decoupled sampler\n",
    "ds = _decoupled_sampler_gpr(\n",
    "    model=model,\n",
    "    kernel=None,  # unused kwarg\n",
    "    sample_shape=[num_samples],\n",
    "    num_basis=256\n",
    ")\n",
    "\n",
    "# sample from decoupled\n",
    "ds_samples = ds(test_X)\n",
    "\n",
    "# plot the samples\n",
    "plt.plot(\n",
    "    tf.reshape(test_X, [-1]),\n",
    "    tf.transpose(tf.squeeze(ds_samples, -1)),\n",
    "    label=\"decoupled\",\n",
    "    color=\"red\"\n",
    ")\n"
   ],
   "metadata": {
    "collapsed": false,
    "pycharm": {
     "name": "#%%\n"
    }
   }
  },
  {
   "cell_type": "code",
   "execution_count": 25,
   "outputs": [],
   "source": [
    "# plot\n",
    "plt.grid(True)\n",
    "plt.legend()\n",
    "plt.title(\"GPflow\")\n",
    "plt.show()"
   ],
   "metadata": {
    "collapsed": false,
    "pycharm": {
     "name": "#%%\n"
    }
   }
  }
 ],
 "metadata": {
  "kernelspec": {
   "display_name": "Python 3",
   "language": "python",
   "name": "python3"
  },
  "language_info": {
   "codemirror_mode": {
    "name": "ipython",
    "version": 2
   },
   "file_extension": ".py",
   "mimetype": "text/x-python",
   "name": "python",
   "nbconvert_exporter": "python",
   "pygments_lexer": "ipython2",
   "version": "2.7.6"
  }
 },
 "nbformat": 4,
 "nbformat_minor": 0
}